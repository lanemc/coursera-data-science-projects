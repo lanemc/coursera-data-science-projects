{
    "nbformat_minor": 1, 
    "cells": [
        {
            "source": "<h1>My Jupyter Notebook on IBM Data Science Experience</h1>", 
            "cell_type": "markdown", 
            "metadata": {
                "collapsed": true
            }
        }, 
        {
            "source": "<strong>Lane Cunningham</strong>\n\nSoftware Engineer", 
            "cell_type": "markdown", 
            "metadata": {}
        }, 
        {
            "source": "<em>I am interested in data science because NLP will allow me to nerd out with my two loves, programming AND communication!</em>", 
            "cell_type": "markdown", 
            "metadata": {}
        }, 
        {
            "source": "<h3>Cell 5 contains code that, when run, adds two numbers together.</h3>", 
            "cell_type": "markdown", 
            "metadata": {}
        }, 
        {
            "execution_count": 1, 
            "cell_type": "code", 
            "metadata": {}, 
            "outputs": [
                {
                    "output_type": "stream", 
                    "name": "stdout", 
                    "text": "Waiting for a Spark session to start...\nSpark Initialization Done! ApplicationId = app-20180919170110-0000\n"
                }, 
                {
                    "execution_count": 1, 
                    "metadata": {}, 
                    "data": {
                        "text/plain": "2"
                    }, 
                    "output_type": "execute_result"
                }
            ], 
            "source": "1 + 1"
        }, 
        {
            "source": "<h2>My Favorite Candy</h2>\n<hr>\n<ol>\n    <li><a href=\"https://www.mikeandike.com/\">Mike and Ike</a></li>\n    <li><a href=\"http://skittles.com/\">Skittles</a></li>\n    <li><a href=\"https://www.sourpatch.com/\">Sourpatch Kids</a></li>\n</ol>\n\n<blockquote>\n    All I really need is love, but a little candy now and then doesn't hurt!\n    \n<em><small>Charles Shulz</small></em>\n</blockquote>", 
            "cell_type": "markdown", 
            "metadata": {}
        }, 
        {
            "execution_count": null, 
            "cell_type": "code", 
            "metadata": {}, 
            "outputs": [], 
            "source": ""
        }, 
        {
            "execution_count": null, 
            "cell_type": "code", 
            "metadata": {}, 
            "outputs": [], 
            "source": ""
        }
    ], 
    "metadata": {
        "kernelspec": {
            "display_name": "Python 3.5 with Spark", 
            "name": "python3", 
            "language": "python3"
        }, 
        "language_info": {
            "mimetype": "text/x-python", 
            "nbconvert_exporter": "python", 
            "version": "3.5.4", 
            "name": "python", 
            "file_extension": ".py", 
            "pygments_lexer": "ipython3", 
            "codemirror_mode": {
                "version": 3, 
                "name": "ipython"
            }
        }
    }, 
    "nbformat": 4
}